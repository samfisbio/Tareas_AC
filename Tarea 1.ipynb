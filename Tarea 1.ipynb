{
 "cells": [
  {
   "cell_type": "markdown",
   "id": "dd3ed2b6",
   "metadata": {},
   "source": [
    "# Operadores aritméticos y tipos de datos numéricos\n",
    "\n",
    "En este _notebook_, nos enfocaremos en aprender cómo hacer operaciones aritméticas, además de introducir los conceptos de _precedencia y asociatividad de operadores_, _tipos de datos_, y entender cómo una computadora guarda números enteros en su memoria y realiza cálculos con ellos."
   ]
  },
  {
   "cell_type": "markdown",
   "id": "810c1241",
   "metadata": {},
   "source": [
    "## Números\n",
    "\n",
    "Antes de pasar a cosas más generales, veamos cómo podemos _representar_ números en Julia.\n",
    "\n",
    "### Naturales ($\\mathbb{N}$)\n",
    "\n",
    "Los números naturales se escriben simplemente utilizando el número correspondiente:"
   ]
  },
  {
   "cell_type": "code",
   "execution_count": 34,
   "id": "ca6653e7",
   "metadata": {},
   "outputs": [
    {
     "data": {
      "text/plain": [
       "0"
      ]
     },
     "execution_count": 34,
     "metadata": {},
     "output_type": "execute_result"
    }
   ],
   "source": [
    "0"
   ]
  },
  {
   "cell_type": "markdown",
   "id": "46fd0f4e",
   "metadata": {},
   "source": [
    "### Enteros ($\\mathbb{Z}$)\n",
    "\n",
    "Los enteros negativos (i.e., enteros no naturales) se escriben con un signo negativo `-` al inicio:"
   ]
  },
  {
   "cell_type": "code",
   "execution_count": 35,
   "id": "837a377f",
   "metadata": {},
   "outputs": [
    {
     "data": {
      "text/plain": [
       "-5"
      ]
     },
     "execution_count": 35,
     "metadata": {},
     "output_type": "execute_result"
    }
   ],
   "source": [
    "-5"
   ]
  },
  {
   "cell_type": "markdown",
   "id": "b0bfe6f7",
   "metadata": {},
   "source": [
    "### Racionales $(\\mathbb{Q})$\n",
    "\n",
    "Los número racionales se escriben como dos enteros separados por el símbolo `//`:\n"
   ]
  },
  {
   "cell_type": "code",
   "execution_count": 36,
   "id": "93497e3e",
   "metadata": {},
   "outputs": [
    {
     "data": {
      "text/plain": [
       "3//2"
      ]
     },
     "execution_count": 36,
     "metadata": {},
     "output_type": "execute_result"
    }
   ],
   "source": [
    "3//2"
   ]
  },
  {
   "cell_type": "markdown",
   "id": "40e61a55",
   "metadata": {},
   "source": [
    "### Reales ($\\mathbb{R}$)\n",
    "\n",
    "Los números reales que **no** son enteros ni racionales se escriben utilizando el punto decimal:"
   ]
  },
  {
   "cell_type": "code",
   "execution_count": 37,
   "id": "00e3695d",
   "metadata": {},
   "outputs": [
    {
     "data": {
      "text/plain": [
       "1924.875"
      ]
     },
     "execution_count": 37,
     "metadata": {},
     "output_type": "execute_result"
    }
   ],
   "source": [
    "1924.875"
   ]
  },
  {
   "cell_type": "markdown",
   "id": "cb132137",
   "metadata": {},
   "source": [
    "o bien, utilizando notación científica, reemplazando \"$\\times 10^\\wedge$\" por la letra `e`:"
   ]
  },
  {
   "cell_type": "code",
   "execution_count": 38,
   "id": "76af41fe",
   "metadata": {},
   "outputs": [
    {
     "data": {
      "text/plain": [
       "1924.875"
      ]
     },
     "execution_count": 38,
     "metadata": {},
     "output_type": "execute_result"
    }
   ],
   "source": [
    "1.924875e3"
   ]
  },
  {
   "cell_type": "markdown",
   "id": "1716ac91",
   "metadata": {},
   "source": [
    "### Imaginarios ($\\mathbb{I}$)\n",
    "\n",
    "Los números imaginarios se escriben como múltiplos de la unidad imaginaria $i:=\\sqrt{-1}$, la cual está implementada en Julia como `im`."
   ]
  },
  {
   "cell_type": "code",
   "execution_count": 39,
   "id": "4ca122bf",
   "metadata": {},
   "outputs": [
    {
     "data": {
      "text/plain": [
       "0 + 6im"
      ]
     },
     "execution_count": 39,
     "metadata": {},
     "output_type": "execute_result"
    }
   ],
   "source": [
    "6im"
   ]
  },
  {
   "cell_type": "code",
   "execution_count": 40,
   "id": "d6ddcdde",
   "metadata": {},
   "outputs": [
    {
     "data": {
      "text/plain": [
       "0//1 + 5//2*im"
      ]
     },
     "execution_count": 40,
     "metadata": {},
     "output_type": "execute_result"
    }
   ],
   "source": [
    "(5//2)im"
   ]
  },
  {
   "cell_type": "code",
   "execution_count": 41,
   "id": "85e5d43a",
   "metadata": {},
   "outputs": [
    {
     "data": {
      "text/plain": [
       "0.0 + 2.10395im"
      ]
     },
     "execution_count": 41,
     "metadata": {},
     "output_type": "execute_result"
    }
   ],
   "source": [
    "2.10395im"
   ]
  },
  {
   "cell_type": "markdown",
   "id": "2a6ad0c1",
   "metadata": {},
   "source": [
    "Notemos que, en realidad, Julia los está interpretando como números complejos con parte real cero (¡observen cómo cambia el ''cero'' de la parte real dependiendo del argumento que demos para la parte imaginaria!). Esto nos da una pista de cómo escribir números complejos."
   ]
  },
  {
   "cell_type": "markdown",
   "id": "0c049ecc",
   "metadata": {},
   "source": [
    "### Complejos ($\\mathbb{C}$)\n",
    "\n",
    "Los números complejos se escriben como la suma de un número real más uno imaginario:"
   ]
  },
  {
   "cell_type": "code",
   "execution_count": 42,
   "id": "d74ddad7",
   "metadata": {},
   "outputs": [
    {
     "data": {
      "text/plain": [
       "-5 + 6im"
      ]
     },
     "execution_count": 42,
     "metadata": {},
     "output_type": "execute_result"
    }
   ],
   "source": [
    "-5 + 6im"
   ]
  },
  {
   "cell_type": "code",
   "execution_count": 43,
   "id": "25f59ddd",
   "metadata": {},
   "outputs": [
    {
     "data": {
      "text/plain": [
       "3//2 - 5//2*im"
      ]
     },
     "execution_count": 43,
     "metadata": {},
     "output_type": "execute_result"
    }
   ],
   "source": [
    "3//2 + 5//2im #aquí se divide entre el imaginario, por eso camabia el signo."
   ]
  },
  {
   "cell_type": "code",
   "execution_count": 44,
   "id": "8e20437b",
   "metadata": {},
   "outputs": [
    {
     "data": {
      "text/plain": [
       "1924.875 + 2.10395im"
      ]
     },
     "execution_count": 44,
     "metadata": {},
     "output_type": "execute_result"
    }
   ],
   "source": [
    "1924.875 + 2.10395im"
   ]
  },
  {
   "cell_type": "markdown",
   "id": "dc3588dd",
   "metadata": {},
   "source": [
    "El símbolo de `+`, como es de esperarse, realiza una operación de suma. Compara el resultado de ``3//2 + 5//2im`` con el de ``(5//2)im``. ¿Qué diferencia notas, y a qué crees que se deba?"
   ]
  },
  {
   "cell_type": "code",
   "execution_count": 45,
   "id": "d37e94ed",
   "metadata": {},
   "outputs": [
    {
     "data": {
      "text/plain": [
       "2.5"
      ]
     },
     "execution_count": 45,
     "metadata": {},
     "output_type": "execute_result"
    }
   ],
   "source": [
    "5/2"
   ]
  },
  {
   "cell_type": "code",
   "execution_count": 46,
   "id": "ea13a6c1",
   "metadata": {},
   "outputs": [
    {
     "data": {
      "text/plain": [
       "5//2"
      ]
     },
     "execution_count": 46,
     "metadata": {},
     "output_type": "execute_result"
    }
   ],
   "source": [
    "5//2"
   ]
  },
  {
   "cell_type": "markdown",
   "id": "ee9b4513",
   "metadata": {},
   "source": [
    "## Operaciones aritméticas\n",
    "En Julia, los símbolos `+`, `-`, `*`, `/` y `^` se utilizan para denotar las operaciones de suma, resta, multiplicación, división y exponenciación, respectivamente, de manera similar a como lo hacemos en matemáticas."
   ]
  },
  {
   "cell_type": "code",
   "execution_count": 47,
   "id": "985aa31a",
   "metadata": {},
   "outputs": [
    {
     "data": {
      "text/plain": [
       "6"
      ]
     },
     "execution_count": 47,
     "metadata": {},
     "output_type": "execute_result"
    }
   ],
   "source": [
    "4+2"
   ]
  },
  {
   "cell_type": "markdown",
   "id": "20e69f8f",
   "metadata": {},
   "source": [
    "Generalmente, a los símbolos que realizan alguna operación en Julia se conocen como _operadores_; en particular, `+`, `-`, `*`, `/` y `^` son _operadores aritméticos_.\n",
    "\n",
    "**Ejercicio** Obten cada uno de los valores siguientes con **una sola modificación** de la expresión `4+2`.\n",
    "\n",
    "* 2\n",
    "* 4\n",
    "* 8\n",
    "* 16\n",
    "\n",
    "Asegúrate de usar cada operación aritmética al menos una vez. ¿De cuántas maneras diferentes podrás hacerlo para cada número?"
   ]
  },
  {
   "cell_type": "markdown",
   "id": "2fabe6b6",
   "metadata": {},
   "source": [
    "Resolución de ejercicio:"
   ]
  },
  {
   "cell_type": "code",
   "execution_count": 48,
   "id": "b6a2d610",
   "metadata": {},
   "outputs": [
    {
     "data": {
      "text/plain": [
       "2"
      ]
     },
     "execution_count": 48,
     "metadata": {},
     "output_type": "execute_result"
    }
   ],
   "source": [
    "4-2"
   ]
  },
  {
   "cell_type": "code",
   "execution_count": 49,
   "id": "c59eaac7",
   "metadata": {
    "scrolled": true
   },
   "outputs": [
    {
     "data": {
      "text/plain": [
       "4"
      ]
     },
     "execution_count": 49,
     "metadata": {},
     "output_type": "execute_result"
    }
   ],
   "source": [
    "4+0"
   ]
  },
  {
   "cell_type": "code",
   "execution_count": 50,
   "id": "e3419881",
   "metadata": {},
   "outputs": [
    {
     "data": {
      "text/plain": [
       "8"
      ]
     },
     "execution_count": 50,
     "metadata": {},
     "output_type": "execute_result"
    }
   ],
   "source": [
    "4+4"
   ]
  },
  {
   "cell_type": "code",
   "execution_count": 51,
   "id": "0e54f554",
   "metadata": {},
   "outputs": [
    {
     "data": {
      "text/plain": [
       "16"
      ]
     },
     "execution_count": 51,
     "metadata": {},
     "output_type": "execute_result"
    }
   ],
   "source": [
    "4*4"
   ]
  },
  {
   "cell_type": "markdown",
   "id": "4b5f2e0f",
   "metadata": {},
   "source": [
    "### Precedencia y asociatividad\n",
    "\n",
    "Evaluemos una expresión con muchos operadores aritméticos, pero ningún paréntesis para indicar cuáles operaciones queremos que se realicen primero. ¿Puedes explicar qué está sucediendo?"
   ]
  },
  {
   "cell_type": "code",
   "execution_count": 56,
   "id": "89decd7e",
   "metadata": {},
   "outputs": [
    {
     "data": {
      "text/plain": [
       "-41"
      ]
     },
     "execution_count": 56,
     "metadata": {},
     "output_type": "execute_result"
    }
   ],
   "source": [
    "4 - 5 * 3 ^ 2"
   ]
  },
  {
   "cell_type": "markdown",
   "id": "48fecf5b",
   "metadata": {},
   "source": [
    "Observemos que el resultado que obtenemos es consistente, es decir, no cambia si corremos la celda más veces. Para poder evaluar expresiones como ésta (con muchos operadores -en general- y sin paréntesis para indicar el orden de las operaciones) de forma consistente, Julia debe tener un _orden preestablecido_ en el cual ejecutar a los operadores. En el caso particular de los operadores aritméticos, el orden es el mismo que aprendemos en la educación básica:\n",
    "* primero, elevas los exponentes;\n",
    "* luego, realizas las multiplicaciones/divisiones;\n",
    "* finalmente, haces las sumas/restas;\n",
    "\n",
    "Para describir esto en términos de operadores de Julia, diríamos que:\n",
    "* el operador `^` tiene mayor _precedencia_ que los operadores `*`, `/`, `+` y `-`;\n",
    "* los operadores `*` y `/` tienen la misma _precedencia_, la cual es menor a la de `^` pero mayor a las de `+` y `-`;\n",
    "* los operadores `+` y `-` tienen la misma _precedencia_, la cual es menor a la de `^`, y a la de `*` y `/`.\n",
    "\n",
    "Para revisar la **precedencia** de un operador en Julia, podemos utilizar la función `Base.operator_precedence`, con la sintáxis\n",
    "\n",
    "$\\text{Base}\\color{magenta}{\\text{.}}\\color{green}{\\text{operator_precedence}}\\text{(}\\color{green}{\\text{:op}}\\text{)}$\n",
    "\n",
    "en donde $\\text{op}$ es el operador en cuestión, como en el siguiente ejemplo:"
   ]
  },
  {
   "cell_type": "code",
   "execution_count": 57,
   "id": "6f9fb78f",
   "metadata": {},
   "outputs": [
    {
     "data": {
      "text/plain": [
       "11"
      ]
     },
     "execution_count": 57,
     "metadata": {},
     "output_type": "execute_result"
    }
   ],
   "source": [
    "Base.operator_precedence(:+)"
   ]
  },
  {
   "cell_type": "markdown",
   "id": "df98615c",
   "metadata": {},
   "source": [
    "**Ejercicio** Verifica las relaciones entre las precedencias de los operadores aritméticos discutidas en el párrafo anterior."
   ]
  },
  {
   "cell_type": "markdown",
   "id": "d0f25280",
   "metadata": {},
   "source": [
    "Resolución de ejercicio: "
   ]
  },
  {
   "cell_type": "code",
   "execution_count": 58,
   "id": "585f0322",
   "metadata": {},
   "outputs": [
    {
     "data": {
      "text/plain": [
       "11"
      ]
     },
     "execution_count": 58,
     "metadata": {},
     "output_type": "execute_result"
    }
   ],
   "source": [
    "Base.operator_precedence(:-)"
   ]
  },
  {
   "cell_type": "code",
   "execution_count": 61,
   "id": "06522938",
   "metadata": {},
   "outputs": [
    {
     "data": {
      "text/plain": [
       "12"
      ]
     },
     "execution_count": 61,
     "metadata": {},
     "output_type": "execute_result"
    }
   ],
   "source": [
    "Base.operator_precedence(:*)"
   ]
  },
  {
   "cell_type": "code",
   "execution_count": 62,
   "id": "6dfc2855",
   "metadata": {},
   "outputs": [
    {
     "data": {
      "text/plain": [
       "12"
      ]
     },
     "execution_count": 62,
     "metadata": {},
     "output_type": "execute_result"
    }
   ],
   "source": [
    "Base.operator_precedence(:/)"
   ]
  },
  {
   "cell_type": "code",
   "execution_count": 63,
   "id": "678b00ff",
   "metadata": {},
   "outputs": [
    {
     "data": {
      "text/plain": [
       "15"
      ]
     },
     "execution_count": 63,
     "metadata": {},
     "output_type": "execute_result"
    }
   ],
   "source": [
    "Base.operator_precedence(:^)"
   ]
  },
  {
   "cell_type": "markdown",
   "id": "7923b322",
   "metadata": {},
   "source": [
    "¿Qué sucede si queremos evaluar una expresión en donde _todos_ los operadores tienen la misma precedencia, y tampoco hay paréntesis para indicar qué operadores irán primero? La manera más consistente de evaluar expresiones de este tipo es que, para cada valor de precedencia, Julia decida si va a evaluar a los operadores de dicha precedencia asociándolos por la izquierda (lo que equivaldría a \"ejecutar el código de izquierda a derecha\") o asociándolos por la derecha (lo que equivaldría a \"ejecutar el código de izquierda a derecha\"). En el primer caso, decimos decimos que todos los operadores de precedencia $n$ tienen **asociatividad izquierda** mientras que, en el segundo, decimos que tienen **asociatividad derecha**."
   ]
  },
  {
   "cell_type": "code",
   "execution_count": 66,
   "id": "05fdc669",
   "metadata": {},
   "outputs": [
    {
     "data": {
      "text/plain": [
       "4.444444444444445"
      ]
     },
     "execution_count": 66,
     "metadata": {},
     "output_type": "execute_result"
    }
   ],
   "source": [
    "(5*3/2)/(6/8*9/4)"
   ]
  },
  {
   "cell_type": "code",
   "execution_count": 68,
   "id": "80bc7c1d",
   "metadata": {},
   "outputs": [
    {
     "data": {
      "text/plain": [
       "0.3515625"
      ]
     },
     "execution_count": 68,
     "metadata": {},
     "output_type": "execute_result"
    }
   ],
   "source": [
    "5*3/2/6/8*9/4 #los valores cambian"
   ]
  },
  {
   "cell_type": "code",
   "execution_count": 69,
   "id": "c6a85f95",
   "metadata": {},
   "outputs": [
    {
     "data": {
      "text/plain": [
       "16.0"
      ]
     },
     "execution_count": 69,
     "metadata": {},
     "output_type": "execute_result"
    }
   ],
   "source": [
    "8 * 2/ 4 * 4"
   ]
  },
  {
   "cell_type": "code",
   "execution_count": 70,
   "id": "7d84060b",
   "metadata": {},
   "outputs": [
    {
     "data": {
      "text/plain": [
       "16.0"
      ]
     },
     "execution_count": 70,
     "metadata": {},
     "output_type": "execute_result"
    }
   ],
   "source": [
    "( (8 * 2) / 4) * 4 # misma precedencia, asociatividad izquierda,es decir, se ejecutan de izquierda a derecha"
   ]
  },
  {
   "cell_type": "code",
   "execution_count": 3,
   "id": "f5ead5b7",
   "metadata": {},
   "outputs": [
    {
     "data": {
      "text/plain": [
       "65536"
      ]
     },
     "execution_count": 3,
     "metadata": {},
     "output_type": "execute_result"
    }
   ],
   "source": [
    "2^2^2^2"
   ]
  },
  {
   "cell_type": "code",
   "execution_count": 4,
   "id": "b0fdeefe",
   "metadata": {},
   "outputs": [
    {
     "data": {
      "text/plain": [
       "65536"
      ]
     },
     "execution_count": 4,
     "metadata": {},
     "output_type": "execute_result"
    }
   ],
   "source": [
    "2^( 2^ (2 ^ (2)))  # misma precedencia, asociatividad derecha"
   ]
  },
  {
   "cell_type": "markdown",
   "id": "466c317f",
   "metadata": {},
   "source": [
    "Para revisar la **asociatividad** de un operador en Julia, podemos utilizar la función `Base.operator_associativity`, con la sintáxis\n",
    "\n",
    "$\\text{Base}\\color{magenta}{\\text{.}}\\color{green}{\\text{operator_associativity}}\\text{(}\\color{green}{\\text{:op}}\\text{)}$\n",
    "\n",
    "en donde $\\text{op}$ es el operador en cuestión, como en el siguiente ejemplo:"
   ]
  },
  {
   "cell_type": "code",
   "execution_count": 5,
   "id": "08abe8f2",
   "metadata": {},
   "outputs": [
    {
     "data": {
      "text/plain": [
       ":left"
      ]
     },
     "execution_count": 5,
     "metadata": {},
     "output_type": "execute_result"
    }
   ],
   "source": [
    "Base.operator_associativity(:-)"
   ]
  },
  {
   "cell_type": "markdown",
   "id": "83932906",
   "metadata": {},
   "source": [
    "**Ejercicio** Verifica las asociatividades de los operadores utilizados en el ejemplo anterior."
   ]
  },
  {
   "cell_type": "markdown",
   "id": "b781d76b",
   "metadata": {},
   "source": [
    "Resolución de ejercicio:"
   ]
  },
  {
   "cell_type": "code",
   "execution_count": 79,
   "id": "1164ec98",
   "metadata": {},
   "outputs": [
    {
     "data": {
      "text/plain": [
       ":none"
      ]
     },
     "execution_count": 79,
     "metadata": {},
     "output_type": "execute_result"
    }
   ],
   "source": [
    "Base.operator_associativity(:+)"
   ]
  },
  {
   "cell_type": "code",
   "execution_count": 81,
   "id": "358ccd8b",
   "metadata": {},
   "outputs": [
    {
     "data": {
      "text/plain": [
       ":none"
      ]
     },
     "execution_count": 81,
     "metadata": {},
     "output_type": "execute_result"
    }
   ],
   "source": [
    "Base.operator_associativity(:*)\n"
   ]
  },
  {
   "cell_type": "code",
   "execution_count": 74,
   "id": "f308918d",
   "metadata": {},
   "outputs": [
    {
     "data": {
      "text/plain": [
       ":left"
      ]
     },
     "execution_count": 74,
     "metadata": {},
     "output_type": "execute_result"
    }
   ],
   "source": [
    "Base.operator_associativity(:/)"
   ]
  },
  {
   "cell_type": "code",
   "execution_count": 75,
   "id": "3d58c5f5",
   "metadata": {},
   "outputs": [
    {
     "data": {
      "text/plain": [
       ":right"
      ]
     },
     "execution_count": 75,
     "metadata": {},
     "output_type": "execute_result"
    }
   ],
   "source": [
    "Base.operator_associativity(:^)"
   ]
  },
  {
   "cell_type": "markdown",
   "id": "f909bc9c",
   "metadata": {},
   "source": [
    "La precedencia y asociatividad de algunos operadores básicos en Julia se puede consultar en la [documentación](https://docs.julialang.org/en/v1/manual/mathematical-operations/#Operator-Precedence-and-Associativity)."
   ]
  },
  {
   "cell_type": "markdown",
   "id": "187d6554",
   "metadata": {},
   "source": [
    "**Ejercicio** Investiga la precedencia y asociatividad de los operadores que aparecen en la expresión\n",
    "\n",
    "`x = -7 + 6^5 // 4 * 3 / 2 - 1`\n",
    "\n",
    "y determina de qué manera se ejecutará, indicándolo al colocar paréntesis en la expresióñ\n",
    "\n",
    "`x = -7 + 6^5 // 4 * 3 / 2 - 1`.\n",
    "\n",
    "Después, verifica tu respuesta ejecutando la expresión original y tu expresión con paréntesis en diferentes celdas de código y comparando los resultados."
   ]
  },
  {
   "cell_type": "code",
   "execution_count": 136,
   "id": "213f7a3c",
   "metadata": {},
   "outputs": [
    {
     "data": {
      "text/plain": [
       "2908//1"
      ]
     },
     "execution_count": 136,
     "metadata": {},
     "output_type": "execute_result"
    }
   ],
   "source": [
    "-7 + 6^5 // 4 * 3 / 2 - 1"
   ]
  },
  {
   "cell_type": "code",
   "execution_count": 137,
   "id": "9abadd07",
   "metadata": {},
   "outputs": [
    {
     "data": {
      "text/plain": [
       "2908.0"
      ]
     },
     "execution_count": 137,
     "metadata": {},
     "output_type": "execute_result"
    }
   ],
   "source": [
    "-7 + (6^5 // 4) * (3 / 2) - 1"
   ]
  },
  {
   "cell_type": "markdown",
   "id": "ca175195",
   "metadata": {},
   "source": [
    "## Tipos de datos\n",
    "\n",
    "Anteriormente, para formar números complejos, realizamos una operación entre numeros reales e imaginarios y escribimos, en cada caso, a las partes reales e imaginarias (i.e., los coeficientes que acompañan a `im`) de una forma \"similar\". En la mayoría de los lenguajes de programación, para que los operadores puedan funcionar de forma óptima, deben utilizarse entre datos del mismo \"tipo\". En Julia, podemos averiguar el tipo de dato de una expresión con la función `typeof`:"
   ]
  },
  {
   "cell_type": "code",
   "execution_count": 8,
   "id": "9d22c1fc",
   "metadata": {},
   "outputs": [
    {
     "data": {
      "text/plain": [
       "Int64"
      ]
     },
     "execution_count": 8,
     "metadata": {},
     "output_type": "execute_result"
    }
   ],
   "source": [
    "typeof(-5)"
   ]
  },
  {
   "cell_type": "code",
   "execution_count": 9,
   "id": "36969e3d",
   "metadata": {},
   "outputs": [
    {
     "data": {
      "text/plain": [
       "Rational{Int64}"
      ]
     },
     "execution_count": 9,
     "metadata": {},
     "output_type": "execute_result"
    }
   ],
   "source": [
    "typeof(3 // 2)"
   ]
  },
  {
   "cell_type": "code",
   "execution_count": 10,
   "id": "f7dedb3d",
   "metadata": {},
   "outputs": [
    {
     "data": {
      "text/plain": [
       "Float64"
      ]
     },
     "execution_count": 10,
     "metadata": {},
     "output_type": "execute_result"
    }
   ],
   "source": [
    "typeof(1924.875)"
   ]
  },
  {
   "cell_type": "markdown",
   "id": "07a5d5d5",
   "metadata": {},
   "source": [
    "Aquí observamos que el número entero `-5` es de tipo `Int64` en Julia y el número real `1924.875` es de tipo `Float64`. En cambio, el número `3//2`, que tiene dos números de tipo `Int64` en su expresión (¡verifícalo!), es de tipo `Rational{Int64}`. Para distinguir entre estos tipos, decimos que `Int64` y `Float64` son tipos de datos **primitivos**, mientras que `Rational{Int64}` es un tipo de dato **compuesto**.\n",
    "\n",
    "**Nota** Si en vez de `Int64` y `Float64` te aparecen `Int32` y `Float32`, respectivamente, _¡no te preocupes!_ Significa que tu sistema es de 32 bits. Veremos qué significa esto un poco más adelante. En ese caso, puedes reemplazar cada instancia de `Int64` y `Float64` en las explicaciones y ejercicios por los tipos de datos correspondientes a tu sistema. Puedes averiguar de cuántos bits es tu sistema ejecutando la siguiente celda:"
   ]
  },
  {
   "cell_type": "code",
   "execution_count": 12,
   "id": "59122545",
   "metadata": {},
   "outputs": [
    {
     "data": {
      "text/plain": [
       "64"
      ]
     },
     "execution_count": 12,
     "metadata": {},
     "output_type": "execute_result"
    }
   ],
   "source": [
    "Sys.WORD_SIZE"
   ]
  },
  {
   "cell_type": "markdown",
   "id": "8f8d32e3",
   "metadata": {},
   "source": [
    "**Ejercicio** Escribe un número racional que sea de tipo `Rational{Float64}`."
   ]
  },
  {
   "cell_type": "code",
   "execution_count": 138,
   "id": "a855ffbf",
   "metadata": {},
   "outputs": [
    {
     "ename": "LoadError",
     "evalue": "MethodError: no method matching //(::Float64, ::Rational{Int64})\n\u001b[0mClosest candidates are:\n\u001b[0m  //(\u001b[91m::Integer\u001b[39m, ::Rational) at C:\\Users\\ssama\\AppData\\Local\\Programs\\Julia-1.7.2\\share\\julia\\base\\rational.jl:68\n\u001b[0m  //(\u001b[91m::Complex\u001b[39m, ::Real) at C:\\Users\\ssama\\AppData\\Local\\Programs\\Julia-1.7.2\\share\\julia\\base\\rational.jl:78\n\u001b[0m  //(::Number, \u001b[91m::Complex\u001b[39m) at C:\\Users\\ssama\\AppData\\Local\\Programs\\Julia-1.7.2\\share\\julia\\base\\rational.jl:79\n\u001b[0m  ...",
     "output_type": "error",
     "traceback": [
      "MethodError: no method matching //(::Float64, ::Rational{Int64})\n\u001b[0mClosest candidates are:\n\u001b[0m  //(\u001b[91m::Integer\u001b[39m, ::Rational) at C:\\Users\\ssama\\AppData\\Local\\Programs\\Julia-1.7.2\\share\\julia\\base\\rational.jl:68\n\u001b[0m  //(\u001b[91m::Complex\u001b[39m, ::Real) at C:\\Users\\ssama\\AppData\\Local\\Programs\\Julia-1.7.2\\share\\julia\\base\\rational.jl:78\n\u001b[0m  //(::Number, \u001b[91m::Complex\u001b[39m) at C:\\Users\\ssama\\AppData\\Local\\Programs\\Julia-1.7.2\\share\\julia\\base\\rational.jl:79\n\u001b[0m  ...",
      "",
      "Stacktrace:",
      " [1] top-level scope",
      "   @ In[138]:1",
      " [2] eval",
      "   @ .\\boot.jl:373 [inlined]",
      " [3] include_string(mapexpr::typeof(REPL.softscope), mod::Module, code::String, filename::String)",
      "   @ Base .\\loading.jl:1196"
     ]
    }
   ],
   "source": [
    "typeof((1924.875)//(3//2)) #No es posible "
   ]
  },
  {
   "cell_type": "markdown",
   "id": "e7ae9a18",
   "metadata": {},
   "source": [
    "Observemos que, además de los números racionales, los complejos también tienen tipos de datos compuestos:"
   ]
  },
  {
   "cell_type": "code",
   "execution_count": 14,
   "id": "b6b8b56a",
   "metadata": {},
   "outputs": [
    {
     "data": {
      "text/plain": [
       "Complex{Int64}"
      ]
     },
     "execution_count": 14,
     "metadata": {},
     "output_type": "execute_result"
    }
   ],
   "source": [
    "typeof(-5 + 6im)"
   ]
  },
  {
   "cell_type": "code",
   "execution_count": 15,
   "id": "fa986434",
   "metadata": {},
   "outputs": [
    {
     "data": {
      "text/plain": [
       "ComplexF64 (alias for Complex{Float64})"
      ]
     },
     "execution_count": 15,
     "metadata": {},
     "output_type": "execute_result"
    }
   ],
   "source": [
    "typeof(1924.875 + 2.10395im)"
   ]
  },
  {
   "cell_type": "markdown",
   "id": "67a43a0c",
   "metadata": {},
   "source": [
    "**Ejercicio** ¿Qué tipo de dato tendrá la expresión `3//2 + 5//2im`? (Nota: **No** uses la función `typeof` aún)\n",
    "\n",
    "Complex{Rational{Int64}}\n",
    "\n",
    "\n",
    "Después de haber escrito tu respuesta, averígualo con la función `typeof`. ¿Qué nos dice esto sobre los tipos de datos compuestos? (Nota: En caso de no haber acertado, puedes corregir tu respuesta anterior, si así lo deseas, o, mejor, dejarla como un recordatorio de lo aprendido)"
   ]
  },
  {
   "cell_type": "markdown",
   "id": "f60248ba",
   "metadata": {},
   "source": [
    "Resolución de ejercicio anterior"
   ]
  },
  {
   "cell_type": "code",
   "execution_count": 86,
   "id": "5725f81d",
   "metadata": {},
   "outputs": [
    {
     "data": {
      "text/plain": [
       "Complex{Rational{Int64}}"
      ]
     },
     "execution_count": 86,
     "metadata": {},
     "output_type": "execute_result"
    }
   ],
   "source": [
    "typeof(3//2 + 5//2im)"
   ]
  },
  {
   "cell_type": "markdown",
   "id": "bb1f97f8",
   "metadata": {},
   "source": [
    "**Observación** Los _tipos de datos numéricos_ de Julia **no corresponden** a los _conjuntos de números_ $\\mathbb{N}, \\mathbb{Z}, \\mathbb{Q}, \\mathbb{R}, \\mathbb{I},\\mathbb{C}$, etc. _¡Es muy importante no olvidarlo!_"
   ]
  },
  {
   "cell_type": "markdown",
   "id": "d075a25d",
   "metadata": {},
   "source": [
    "### Tipos de datos numéricos \"enteros\"\n",
    "\n",
    "`Int64` e `Int32` son lo que se conoce como tipos de datos numéricos _enteros_ **en el ámbito computacional**. Los dos números al final de cada tipo indican cuántos bits se utilizan para almacenar un número dado. Un _bit_ es la unidad mínima de memoria en una computadora, que puede almacenar 0 o 1. En un número de tipo `Int64`, uno de los bits se utiliza para indicar si el número es positivo (0) o negativo (1), y los restantes (63, en este caso) se utilizan para almacenar el valor absoluto del número en sistema binario. Por convención, la mitad de los valores de tipo `Int64` son menores a cero. Haciendo un poco de combinatoria:\n",
    "\n",
    "* Dado que cada bit puede tomar dos valores distintos, existen $2^{64}$ combinaciones diferentes con 64 bits, por lo que podemos representar $2^{64}$ números _de tipo entero_ diferentes con `Int64`, incluyendo números negativos.\n",
    "* Ya que un bit se utiliza para el signo y la mitad de los valores de tipo `Int64` son menores a cero, el menor valor de tipo `Int64` es $-2^{63}$, mientras que el mayor valor de tipo `Int64` es $2^{63}-1$. Esto se puede comprobar con las funciones `typemin` y `typemax`, respectivamente. "
   ]
  },
  {
   "cell_type": "code",
   "execution_count": 16,
   "id": "ae9315b6",
   "metadata": {},
   "outputs": [
    {
     "data": {
      "text/plain": [
       "-9223372036854775808"
      ]
     },
     "execution_count": 16,
     "metadata": {},
     "output_type": "execute_result"
    }
   ],
   "source": [
    "typemin(Int64)"
   ]
  },
  {
   "cell_type": "code",
   "execution_count": 17,
   "id": "14bfd476",
   "metadata": {},
   "outputs": [
    {
     "data": {
      "text/plain": [
       "-9223372036854775808"
      ]
     },
     "execution_count": 17,
     "metadata": {},
     "output_type": "execute_result"
    }
   ],
   "source": [
    "-2^63"
   ]
  },
  {
   "cell_type": "code",
   "execution_count": 18,
   "id": "2d2be984",
   "metadata": {},
   "outputs": [
    {
     "data": {
      "text/plain": [
       "9223372036854775807"
      ]
     },
     "execution_count": 18,
     "metadata": {},
     "output_type": "execute_result"
    }
   ],
   "source": [
    "typemax(Int64)"
   ]
  },
  {
   "cell_type": "code",
   "execution_count": 19,
   "id": "ebae0864",
   "metadata": {},
   "outputs": [
    {
     "data": {
      "text/plain": [
       "9223372036854775807"
      ]
     },
     "execution_count": 19,
     "metadata": {},
     "output_type": "execute_result"
    }
   ],
   "source": [
    "2^63-1"
   ]
  },
  {
   "cell_type": "markdown",
   "id": "3ee9b092",
   "metadata": {},
   "source": [
    "También existen los tipos de datos numéricos enteros `Int8`, `Int16` e `Int128`.\n",
    "\n",
    "**Ejercicio** Completa la siguiente tabla (¡Asegúrate de entender el _porqué_ de tus respuestas!):\n",
    "\n",
    "| Tipo de dato numérico entero | Valores distintos | Valor mínimo | Valor máximo |\n",
    "| --- | --- | --- | --- |\n",
    "| `Int8` |$2^{8}$ |$-2^{7}$| $2^{7}-1$ |\n",
    "| `Int16` | $2^{16}$| $-2^{15}$| $2^{15}-1$ |\n",
    "| `Int32` | $2^{32}$|$-2^{31}$ |  $2^{31}-1$|\n",
    "| `Int64` | $2^{64}$ | $-2^{63}$ | $2^{63}-1$ |\n",
    "| `Int128` |$2^{128}$ |$-2^{127}$  | $2^{127}-1$ |\n",
    "\n",
    "`Int8`, `Int16`, `Int32`, `Int64` e `Int128` también se pueden utilizar como funciones para cambiar los tipos de datos numéricos enteros:"
   ]
  },
  {
   "cell_type": "code",
   "execution_count": 20,
   "id": "8666c24a",
   "metadata": {},
   "outputs": [
    {
     "data": {
      "text/plain": [
       "Int64"
      ]
     },
     "execution_count": 20,
     "metadata": {},
     "output_type": "execute_result"
    }
   ],
   "source": [
    "typeof(1)"
   ]
  },
  {
   "cell_type": "code",
   "execution_count": 21,
   "id": "7c99c5b9",
   "metadata": {},
   "outputs": [
    {
     "data": {
      "text/plain": [
       "Int8"
      ]
     },
     "execution_count": 21,
     "metadata": {},
     "output_type": "execute_result"
    }
   ],
   "source": [
    "typeof(Int8(1))"
   ]
  },
  {
   "cell_type": "markdown",
   "id": "f355cf49",
   "metadata": {},
   "source": [
    "El nombre genérico `Int` es un alias para el tipo de dato numérico entero predeterminado de tu sistema (e.g. `Int32` ó `Int64`)"
   ]
  },
  {
   "cell_type": "code",
   "execution_count": 22,
   "id": "e5fce803",
   "metadata": {},
   "outputs": [
    {
     "data": {
      "text/plain": [
       "Int64"
      ]
     },
     "execution_count": 22,
     "metadata": {},
     "output_type": "execute_result"
    }
   ],
   "source": [
    "Int"
   ]
  },
  {
   "cell_type": "markdown",
   "id": "d971b053",
   "metadata": {},
   "source": [
    "**Nota** No podemos convertir números de punto flotante con decimales no nulos a tipo entero:"
   ]
  },
  {
   "cell_type": "code",
   "execution_count": 24,
   "id": "a5fe2747",
   "metadata": {},
   "outputs": [
    {
     "data": {
      "text/plain": [
       "Int32"
      ]
     },
     "execution_count": 24,
     "metadata": {},
     "output_type": "execute_result"
    }
   ],
   "source": [
    "typeof(Int32(3.0))"
   ]
  },
  {
   "cell_type": "code",
   "execution_count": 25,
   "id": "c53903c2",
   "metadata": {},
   "outputs": [
    {
     "ename": "LoadError",
     "evalue": "InexactError: Int32(3.14159)",
     "output_type": "error",
     "traceback": [
      "InexactError: Int32(3.14159)",
      "",
      "Stacktrace:",
      " [1] Int32(x::Float64)",
      "   @ Base .\\float.jl:791",
      " [2] top-level scope",
      "   @ In[25]:1",
      " [3] eval",
      "   @ .\\boot.jl:373 [inlined]",
      " [4] include_string(mapexpr::typeof(REPL.softscope), mod::Module, code::String, filename::String)",
      "   @ Base .\\loading.jl:1196"
     ]
    }
   ],
   "source": [
    "typeof(Int32(3.14159))"
   ]
  },
  {
   "cell_type": "markdown",
   "id": "479bdb43",
   "metadata": {},
   "source": [
    "#### Sobreflujo\n",
    "\n",
    "Cuando hacemos cálculos con números de tipo entero (computacionalmente hablando), como lo hicimos en el la sección **Operaciones aritméticas**, en realidad la computadora está realizando las operaciones entre las _representaciones binarias_ de dichos números. Dado que el rango de números que se pueden representar **siempre** es limitado, pueden ocurrir cosas como lo siguiente:"
   ]
  },
  {
   "cell_type": "code",
   "execution_count": 26,
   "id": "e063d446",
   "metadata": {},
   "outputs": [
    {
     "data": {
      "text/plain": [
       "-9223372036854775808"
      ]
     },
     "execution_count": 26,
     "metadata": {},
     "output_type": "execute_result"
    }
   ],
   "source": [
    "Int64(2^63-1) + 1"
   ]
  },
  {
   "cell_type": "code",
   "execution_count": 27,
   "id": "aa4549d8",
   "metadata": {},
   "outputs": [
    {
     "data": {
      "text/plain": [
       "9223372036854775807"
      ]
     },
     "execution_count": 27,
     "metadata": {},
     "output_type": "execute_result"
    }
   ],
   "source": [
    "-Int64(-2^63) - 1"
   ]
  },
  {
   "cell_type": "markdown",
   "id": "487b3441",
   "metadata": {},
   "source": [
    "Observemos que:\n",
    "* dado que especificamos que el primer argumento de las operaciones `+` y `-` es de tipo `Int64`, Julia implícitamente convierte al número `1` en `Int64` antes de realizar las operaciones para que los resultados también sean de tipo `Int64`;\n",
    "* al sumarle $1$ al máximo número representable con `Int64`, ¡obtenemos el _mínimo_ número representable con `Int64`!;\n",
    "* al restarle $1$ al mínimo número representable con `Int64`, ¡obtenemos el _máximo_ número representable con `Int64`!\n",
    "\n",
    "A los dos últimos fenómenos se les conoce como _sobreflujo_. El _sobreflujo_ ocurre cuando el resultado de una operación entre números de un tipo de dato numérico _se sale del rango_ de valores representables por dicho tipo de dato numérico. En este caso, el resultado \"le da la vuelta\" al rango de valores representables: por esto es que el valor siguiente del máximo representable es el _mínimo_ representable, y que el valor anterior al mínimo representable es el _máximo_ representable.\n",
    "\n",
    "Una manera más matemática de resumir el sobreflujo es deciendo que _las operaciones aritméticas en una computadora siempre se realizan **módulo** el rango de valores representables por el tipo de dato numérico del resultado_. Siempre que este efecto _no_ sea deseado (que, honestamente, es casi siempre), _¡se debe tener mucho cuidado con las magnitudes de los números con los que calculamos, al igual que los tipos de datos numéricos que utilizamos para hacer los cálculos!_"
   ]
  },
  {
   "cell_type": "markdown",
   "id": "4ea1166a",
   "metadata": {},
   "source": [
    "#### `UInt`\n",
    "\n",
    "También existen tipos de datos numéricos enteros `UInt8`, ..., `UInt128` para almacenar números enteros **sin** signo (_**U**nsigned **Int**egers_). En este caso, no se utiliza ningún bit para almacenar el signo por lo que, por ejemplo, el valor máximo de `UInt64` será $2^{64}-1$ (el valor mínimo de todos los `UInt` es $0$). Estos números se escriben añadiendo `0x` antes de un entero:"
   ]
  },
  {
   "cell_type": "code",
   "execution_count": 28,
   "id": "b0fd3636",
   "metadata": {},
   "outputs": [
    {
     "data": {
      "text/plain": [
       "0x02"
      ]
     },
     "execution_count": 28,
     "metadata": {},
     "output_type": "execute_result"
    }
   ],
   "source": [
    "0x1 + 0x1"
   ]
  },
  {
   "cell_type": "code",
   "execution_count": 29,
   "id": "1b22db5b",
   "metadata": {},
   "outputs": [
    {
     "data": {
      "text/plain": [
       "UInt8"
      ]
     },
     "execution_count": 29,
     "metadata": {},
     "output_type": "execute_result"
    }
   ],
   "source": [
    "typeof(0x1)"
   ]
  },
  {
   "cell_type": "markdown",
   "id": "16c074ef",
   "metadata": {},
   "source": [
    "Los tipos `UInt` también son susceptibles al sobreflujo y, además, tienen usos muy específicos; en este curso **no los utilizaremos**."
   ]
  },
  {
   "cell_type": "markdown",
   "id": "8fb7c1a3",
   "metadata": {},
   "source": [
    "#### Pequeño adelanto\n",
    "\n",
    "A diferencia de `Int64` y `UInt64`, `Float64` es un tipo de dato numérico de \"punto flotante\". Veremos qué significa esto y qué implicaciones tiene en el _notebook_\n",
    "\n",
    "`1.2.-Sistemas_numéricos_de_punto_flotante_y_error_numérico.ipynb`.\n",
    "\n",
    "Por ahora, observa la diferencia existente entre las siguientes dos celdas al ejecutarlas:"
   ]
  },
  {
   "cell_type": "code",
   "execution_count": 31,
   "id": "8641046b",
   "metadata": {},
   "outputs": [
    {
     "data": {
      "text/plain": [
       "9//10"
      ]
     },
     "execution_count": 31,
     "metadata": {},
     "output_type": "execute_result"
    }
   ],
   "source": [
    "1//10 + 1//10 + 1//10 + 1//10 + 1//10 + 1//10 + 1//10 + 1//10 + 1//10"
   ]
  },
  {
   "cell_type": "code",
   "execution_count": 32,
   "id": "4b1e98fc",
   "metadata": {},
   "outputs": [
    {
     "data": {
      "text/plain": [
       "0.8999999999999999"
      ]
     },
     "execution_count": 32,
     "metadata": {},
     "output_type": "execute_result"
    }
   ],
   "source": [
    "0.1 + 0.1 + 0.1 + 0.1 + 0.1 + 0.1 + 0.1 + 0.1 + 0.1"
   ]
  },
  {
   "cell_type": "markdown",
   "id": "28739921",
   "metadata": {},
   "source": [
    "¿Te parece esto problemático? ¿A qué crees que se deba?"
   ]
  },
  {
   "cell_type": "markdown",
   "id": "273e6632",
   "metadata": {},
   "source": [
    "## Resumen\n",
    "\n",
    "En Julia, los símbolos `+`, `-`, `*`, `/` y `^` se utilizan para denotar las operaciones de suma, resta, multiplicación, división y exponenciación, respectivamente. Los símbolos que realizan alguna operación en Julia se conocen como _operadores_, y los anteriores son ejemplos de _operadores aritméticos_.\n",
    "\n",
    "Para poder ejecutar expresiones de forma consistente, Julia le asigna a cada operador un nivel de _precedencia_ y, a cada nivel de precedencia, una _asociatividad_. Al ejecutar una expresión con muchos operadores, Julia los ejecutará de mayor a menor precedencia, y cada vez que encuentre varios operadores con la misma precedencia los ejecutará de acuerdo a la asociatividad del respectivo nivel de precedencia, que puede ser izquierda o derecha; asociatividad izquierda es equivalente a ejecutar de izquierda a derecha, mientras asociatividad derecha equivale a ejecutar de derecha a izquierda.\n",
    "\n",
    "Para funcionar óptimamente, los operadores deben operar entre datos del mismo tipo. En caso de hacer una operación entre datos con tipos de datos distintos, el operador **intentará** convertir datos de tal forma que todos tengan un tipo de dato común: si esto es posible, hará dicha conversión _implícitamente_ antes de ejecutar la operación; de lo contrario, devolverá un mensaje de error. Al programar, se recomienda procurar utilizar operadores entre datos **del mismo tipo** para poder tener total certeza de qué tipo de dato tendrá el resultado.\n",
    "\n",
    "Los tipos de datos pueden ser numéricos, lógicos, de texto, entre otros, y se pueden clasificar como primitivos o compuestos. En el caso de los tipos de datos numéricos, algunos ejemplos de tipos de datos primitivos incluyen `Int64` y `Float64`, mientras que algunos ejemplos de tipos de datos compuestos son `Rational{}` y `Complex{}`."
   ]
  },
  {
   "cell_type": "markdown",
   "id": "3ca43f62",
   "metadata": {},
   "source": [
    "**Nota** En este _notebook_, hemos visto algunos tipos de datos primitivos y compuestos para trabajar con operaciones aritméticas. Más adelante, veremos los tipos de datos primitivos\n",
    "* `Bool`, para trabajar con operaciones lógicas, y\n",
    "*`Char` y `String`, para trabajar con operaciones que involucren texto.\n",
    "\n",
    "Además, veremos el tipo de dato compuesto `Array{}`, el cual podremos utilizar para formar arreglos con cualesquiera de los tipos de datos primitivos anteriores (numéricos, lógicos o de texto). En particular, los vectores y las matrices (de extrema utilidad, como sabemos) son ejemplos de arreglos numéricos. Como adelanto a todo esto... ¿alguna vez te preguntaste qué tipo de dato tiene la unidad imaginaria `im`?"
   ]
  }
 ],
 "metadata": {
  "kernelspec": {
   "display_name": "Julia 1.7.2",
   "language": "julia",
   "name": "julia-1.7"
  },
  "language_info": {
   "file_extension": ".jl",
   "mimetype": "application/julia",
   "name": "julia",
   "version": "1.7.2"
  }
 },
 "nbformat": 4,
 "nbformat_minor": 5
}
